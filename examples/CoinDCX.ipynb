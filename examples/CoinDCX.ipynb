{
 "cells": [
  {
   "cell_type": "code",
   "execution_count": 9,
   "id": "c3fdf5f3-9d0e-469b-b251-498147d850c0",
   "metadata": {},
   "outputs": [],
   "source": [
    "base_asset = \"DOGE\"\n",
    "quote_asset = \"USDT\""
   ]
  },
  {
   "cell_type": "code",
   "execution_count": 10,
   "id": "b62d3ada-9fc7-421d-97db-e2d6f079edf4",
   "metadata": {},
   "outputs": [
    {
     "name": "stdout",
     "output_type": "stream",
     "text": [
      "{'balance': '0.0', 'locked_balance': '0.0', 'currency': 'DOGE'}\n",
      "{'balance': '21.296682', 'locked_balance': '0.0', 'currency': 'USDT'}\n",
      "0.0 21.296682\n"
     ]
    }
   ],
   "source": [
    "import hmac\n",
    "import hashlib\n",
    "import base64\n",
    "import json\n",
    "import time\n",
    "import requests\n",
    "\n",
    "# Enter your API Key and Secret here. If you don't have one, you can generate it from the website.\n",
    "key = \"fcb1c800d0ee02c93ea14bf61517afa0194d5c695eec9792\"\n",
    "secret = \"3071e32a059b72505f7d261d95aacb1ba66ab8e4cf5e89214bf329b454196c4c\"\n",
    "\n",
    "# python3\n",
    "secret_bytes = bytes(secret, encoding='utf-8')\n",
    "\n",
    "# Generating a timestamp\n",
    "timeStamp = int(round(time.time() * 1000))\n",
    "\n",
    "body = {\n",
    "    \"timestamp\": timeStamp\n",
    "}\n",
    "\n",
    "json_body = json.dumps(body, separators = (',', ':'))\n",
    "\n",
    "signature = hmac.new(secret_bytes, json_body.encode(), hashlib.sha256).hexdigest()\n",
    "\n",
    "url = \"https://api.coindcx.com/exchange/v1/users/balances\"\n",
    "\n",
    "headers = {\n",
    "    'Content-Type': 'application/json',\n",
    "    'X-AUTH-APIKEY': key,\n",
    "    'X-AUTH-SIGNATURE': signature\n",
    "}\n",
    "\n",
    "response = requests.post(url, data = json_body, headers = headers)\n",
    "data = response.json();\n",
    "\n",
    "for balance in data:\n",
    "    if balance['currency'] == base_asset:\n",
    "        shares = balance['balance']\n",
    "    \n",
    "    if balance['currency'] == quote_asset:\n",
    "        current_balance = balance['balance']\n",
    "        \n",
    "print(shares, current_balance)"
   ]
  },
  {
   "cell_type": "code",
   "execution_count": 11,
   "id": "43fc5f0f-c359-4837-9919-bd0afdd50153",
   "metadata": {},
   "outputs": [
    {
     "name": "stdout",
     "output_type": "stream",
     "text": [
      "{'orders': [{'id': '36625dd6-c57b-11eb-b8b1-cb98d7d52c95', 'order_type': 'market_order', 'side': 'buy', 'status': 'open', 'fee_amount': 0.0, 'fee': 0.1, 'maker_fee': 0.1, 'taker_fee': 0.1, 'total_quantity': 50.0, 'remaining_quantity': 50.0, 'avg_price': 0.0, 'price_per_unit': 0.38877, 'stop_price': 0.0, 'market': 'DOGEUSDT', 'time_in_force': 'good_till_cancel', 'created_at': 1622841854000, 'updated_at': 1622841854000}]}\n"
     ]
    }
   ],
   "source": [
    "# Generating a timestamp.\n",
    "timeStamp = int(round(time.time() * 1000))\n",
    "\n",
    "body = {\n",
    "  \"side\": \"buy\",    #Toggle between 'buy' or 'sell'.\n",
    "  \"order_type\": \"market_order\", #Toggle between a 'market_order' or 'limit_order'.\n",
    "  \"market\": \"DOGEUSDT\", #Replace 'SNTBTC' with your desired market pair.\n",
    "  \"total_quantity\": 50, #Replace this with the quantity you want\n",
    "  \"timestamp\": timeStamp\n",
    "}\n",
    "\n",
    "json_body = json.dumps(body, separators = (',', ':'))\n",
    "\n",
    "signature = hmac.new(secret_bytes, json_body.encode(), hashlib.sha256).hexdigest()\n",
    "\n",
    "url = \"https://api.coindcx.com/exchange/v1/orders/create\"\n",
    "\n",
    "headers = {\n",
    "    'Content-Type': 'application/json',\n",
    "    'X-AUTH-APIKEY': key,\n",
    "    'X-AUTH-SIGNATURE': signature\n",
    "}\n",
    "\n",
    "response = requests.post(url, data = json_body, headers = headers)\n",
    "data = response.json()\n",
    "print(data)"
   ]
  },
  {
   "cell_type": "code",
   "execution_count": 12,
   "id": "96cbd0fc-1aad-41cf-a616-8e3cdf51828c",
   "metadata": {},
   "outputs": [
    {
     "name": "stdout",
     "output_type": "stream",
     "text": [
      "{'orders': [{'id': '3f1f4150-c57b-11eb-bdaa-b79984638e87', 'order_type': 'market_order', 'side': 'sell', 'status': 'open', 'fee_amount': 0.0, 'fee': 0.1, 'maker_fee': 0.1, 'taker_fee': 0.1, 'total_quantity': 50.0, 'remaining_quantity': 50.0, 'avg_price': 0.0, 'price_per_unit': 0.0, 'stop_price': 0.0, 'market': 'DOGEUSDT', 'time_in_force': 'good_till_cancel', 'created_at': 1622841869000, 'updated_at': 1622841869000}]}\n"
     ]
    }
   ],
   "source": [
    "# Generating a timestamp.\n",
    "timeStamp = int(round(time.time() * 1000))\n",
    "\n",
    "body = {\n",
    "  \"side\": \"sell\",    #Toggle between 'buy' or 'sell'.\n",
    "  \"order_type\": \"market_order\", #Toggle between a 'market_order' or 'limit_order'.\n",
    "  \"market\": \"DOGEUSDT\", #Replace 'SNTBTC' with your desired market pair.\n",
    "  \"total_quantity\": 50, #Replace this with the quantity you want\n",
    "  \"timestamp\": timeStamp\n",
    "}\n",
    "\n",
    "json_body = json.dumps(body, separators = (',', ':'))\n",
    "\n",
    "signature = hmac.new(secret_bytes, json_body.encode(), hashlib.sha256).hexdigest()\n",
    "\n",
    "url = \"https://api.coindcx.com/exchange/v1/orders/create\"\n",
    "\n",
    "headers = {\n",
    "    'Content-Type': 'application/json',\n",
    "    'X-AUTH-APIKEY': key,\n",
    "    'X-AUTH-SIGNATURE': signature\n",
    "}\n",
    "\n",
    "response = requests.post(url, data = json_body, headers = headers)\n",
    "data = response.json()\n",
    "print(data)"
   ]
  },
  {
   "cell_type": "code",
   "execution_count": null,
   "id": "a64fb0d6-ce24-40cc-afc6-2321bff2f870",
   "metadata": {},
   "outputs": [],
   "source": []
  }
 ],
 "metadata": {
  "kernelspec": {
   "display_name": "Python 3",
   "language": "python",
   "name": "python3"
  },
  "language_info": {
   "codemirror_mode": {
    "name": "ipython",
    "version": 3
   },
   "file_extension": ".py",
   "mimetype": "text/x-python",
   "name": "python",
   "nbconvert_exporter": "python",
   "pygments_lexer": "ipython3",
   "version": "3.9.2"
  }
 },
 "nbformat": 4,
 "nbformat_minor": 5
}
